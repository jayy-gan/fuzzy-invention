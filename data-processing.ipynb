{
 "cells": [
  {
   "cell_type": "code",
   "execution_count": 1,
   "id": "b9ad011f",
   "metadata": {},
   "outputs": [],
   "source": [
    "#Import all needed files\n",
    "import csv\n",
    "import sys, os, re\n",
    "import time\n",
    "import json\n",
    "\n",
    "import numpy as np\n",
    "import matplotlib.pyplot as plt\n",
    "import seaborn as sns\n",
    "import pandas as pd\n",
    "from scipy.signal import butter, lfilter\n",
    "\n",
    "import warnings"
   ]
  },
  {
   "cell_type": "code",
   "execution_count": 12,
   "id": "598ee2cc",
   "metadata": {},
   "outputs": [],
   "source": [
    "#Import trial data\n",
    "file_path = r\"C:\\Users\\jgx7497\\Documents\\BME 390-3\\Jay_Quarter2_Trial(in).csv\"\n",
    "df = pd.read_csv(file_path)"
   ]
  },
  {
   "cell_type": "code",
   "execution_count": 46,
   "id": "6da2ba1c",
   "metadata": {},
   "outputs": [],
   "source": [
    "# Read the CSV into a DataFrame.\n",
    "df = pd.read_csv(file_path)\n",
    "    \n",
    "# Define the required columns.\n",
    "required_cols = ['Time(ms)', 'Acc_x(g)', 'Acc_y(g)', 'Acc_z(g)',\n",
    "                 'Gyro_x', 'Gyro_y', 'Gyro_z', 'CO2(ppm)']\n",
    "missing_cols = [col for col in required_cols if col not in df.columns]\n",
    "if missing_cols:\n",
    "    raise ValueError(\"Missing required columns: \" + \", \".join(missing_cols))\n"
   ]
  },
  {
   "cell_type": "code",
   "execution_count": 53,
   "id": "a97bae1a",
   "metadata": {},
   "outputs": [],
   "source": [
    "#Identify the accel/gyro rows and CO2 rows respectively\n",
    "co2_rows = df[df['CO2(ppm)'] != 0].copy()\n",
    "sensor_rows = df[(df[['Acc_x(g)', 'Acc_y(g)', 'Acc_z(g)', 'Gyro_x', 'Gyro_y', 'Gyro_z']] != 0).any(axis=1)].copy()\n",
    "#Define tolerance in ms\n",
    "tolerance = 5\n",
    "merged_rows = []\n",
    "\n",
    "#Prepare an empty list to collecte the merged rows\n",
    "for idx, co2_row in co2_rows.iterrows():\n",
    "    #Find sensor rows within +/- 3 ms\n",
    "    mask = (sensor_rows[\"Time(ms)\"] >= co2_row[\"Time(ms)\"] - tolerance) & (sensor_rows['Time(ms)'] <= co2_row['Time(ms)'] + tolerance)\n",
    "    nearby_sensors = sensor_rows[mask]\n",
    "\n",
    "    if not nearby_sensors.empty:\n",
    "        best_sensor = nearby_sensors.iloc[(nearby_sensors['Time(ms)'] - co2_row['Time(ms)']).abs().argsort()].iloc[0]\n",
    "        # Merge the two rows into one\n",
    "    merged_row = {\n",
    "        'Time(ms)': co2_row['Time(ms)'],\n",
    "        'Acc_x(g)': best_sensor['Acc_x(g)'],\n",
    "        'Acc_y(g)': best_sensor['Acc_y(g)'],\n",
    "        'Acc_z(g)': best_sensor['Acc_z(g)'],\n",
    "        'Gyro_x': best_sensor['Gyro_x'],\n",
    "        'Gyro_y': best_sensor['Gyro_y'],\n",
    "        'Gyro_z': best_sensor['Gyro_z'],\n",
    "        'CO2(ppm)': co2_row['CO2(ppm)']\n",
    "    }\n",
    "    merged_rows.append(merged_row)\n",
    "\n",
    "merged_df = pd.DataFrame(merged_rows)\n"
   ]
  },
  {
   "cell_type": "code",
   "execution_count": null,
   "id": "d9054228",
   "metadata": {},
   "outputs": [],
   "source": []
  }
 ],
 "metadata": {
  "kernelspec": {
   "display_name": "base",
   "language": "python",
   "name": "python3"
  },
  "language_info": {
   "codemirror_mode": {
    "name": "ipython",
    "version": 3
   },
   "file_extension": ".py",
   "mimetype": "text/x-python",
   "name": "python",
   "nbconvert_exporter": "python",
   "pygments_lexer": "ipython3",
   "version": "3.12.7"
  }
 },
 "nbformat": 4,
 "nbformat_minor": 5
}
