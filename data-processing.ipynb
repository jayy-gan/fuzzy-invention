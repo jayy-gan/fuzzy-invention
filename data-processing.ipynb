{
 "cells": [
  {
   "cell_type": "code",
   "execution_count": 1,
   "id": "b9ad011f",
   "metadata": {},
   "outputs": [],
   "source": [
    "#Import all needed files\n",
    "import csv\n",
    "import sys, os, re\n",
    "import time\n",
    "import json\n",
    "\n",
    "import numpy as np\n",
    "import matplotlib.pyplot as plt\n",
    "import seaborn as sns\n",
    "import pandas as pd\n",
    "from scipy.signal import butter, lfilter\n",
    "\n",
    "import warnings"
   ]
  },
  {
   "cell_type": "code",
   "execution_count": null,
   "id": "598ee2cc",
   "metadata": {},
   "outputs": [],
   "source": [
    "#Import trial data\n",
    "file_path = r\"C:\\Users\\jgx7497\\Documents\\BME 390-3\\Jay_Quarter2_Trial(in).csv\"\n",
    "trial_df = pd.read_csv(file_path)\n"
   ]
  }
 ],
 "metadata": {
  "kernelspec": {
   "display_name": "base",
   "language": "python",
   "name": "python3"
  },
  "language_info": {
   "codemirror_mode": {
    "name": "ipython",
    "version": 3
   },
   "file_extension": ".py",
   "mimetype": "text/x-python",
   "name": "python",
   "nbconvert_exporter": "python",
   "pygments_lexer": "ipython3",
   "version": "3.12.7"
  }
 },
 "nbformat": 4,
 "nbformat_minor": 5
}
